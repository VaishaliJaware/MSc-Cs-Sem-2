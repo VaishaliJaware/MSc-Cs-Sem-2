{
 "cells": [
  {
   "cell_type": "code",
   "execution_count": 13,
   "metadata": {},
   "outputs": [],
   "source": [
    "import nltk\n",
    "from nltk.corpus import stopwords, twitter_samples\n",
    "from nltk.sentiment import SentimentIntensityAnalyzer\n",
    "from statistics import mean\n",
    "from random import shuffle\n",
    "from colorama import Fore\n"
   ]
  },
  {
   "cell_type": "code",
   "execution_count": 14,
   "metadata": {},
   "outputs": [
    {
     "name": "stderr",
     "output_type": "stream",
     "text": [
      "[nltk_data] Downloading package vader_lexicon to\n",
      "[nltk_data]     C:\\Users\\Vivek\\AppData\\Roaming\\nltk_data...\n",
      "[nltk_data]   Package vader_lexicon is already up-to-date!\n",
      "[nltk_data] Downloading package twitter_samples to\n",
      "[nltk_data]     C:\\Users\\Vivek\\AppData\\Roaming\\nltk_data...\n",
      "[nltk_data]   Package twitter_samples is already up-to-date!\n"
     ]
    },
    {
     "data": {
      "text/plain": [
       "True"
      ]
     },
     "execution_count": 14,
     "metadata": {},
     "output_type": "execute_result"
    }
   ],
   "source": [
    "nltk.download('vader_lexicon')\n",
    "nltk.download('twitter_samples')"
   ]
  },
  {
   "cell_type": "code",
   "execution_count": 15,
   "metadata": {},
   "outputs": [
    {
     "data": {
      "text/plain": [
       "{'neg': 0.0, 'neu': 0.345, 'pos': 0.655, 'compound': 0.5859}"
      ]
     },
     "execution_count": 15,
     "metadata": {},
     "output_type": "execute_result"
    }
   ],
   "source": [
    "m = SentimentIntensityAnalyzer()\n",
    "m.polarity_scores(\"Yo can win.\")"
   ]
  },
  {
   "cell_type": "code",
   "execution_count": 22,
   "metadata": {},
   "outputs": [
    {
     "name": "stdout",
     "output_type": "stream",
     "text": [
      "\u001b[34mRT @hinesjumpedup: @mrjamesmack 'We've stepped into traffic within diving distance of the SNP. The ball is in their court.'\n",
      "\u001b[34mRT @HouseOfTraitors: #AskNigelFarage  Just heard @Jo_Coburn sneer at FARAGE as he answers question on Defence\n",
      "\u001b[34mRT @Jason_Spacey: Nigel Farage is right when he says that Ukip supporters aren't closet racists. Most of the ones I've met are openly racis…\n",
      "\u001b[33m@bbcquestiontime so Milliband prefers the Tories to working with the SNP (again).  RIP Labour in Scotland\n",
      "\u001b[34mRT @Tommy_Colc: Financial Times come out in support of Tories claiming Miliband is \"preoccupied w/ inequality\". The man who wrote it http:/…\n",
      "\u001b[34m@RachelLiskeard Thanks for the shout-out :) It's great to have you aboard @inkfunnel\n",
      "\u001b[33mRT @weight_loss_fb: lose weight fast http://t.co/qpov5CuqRo\n",
      "#bbc #ukip #39 #fcbgetafe #28a #bugil #it #peace #gintama\n",
      "\u001b[33mRT @AamerAnwar: #SNP #VoteSNP A voice 4 Scotland, sick of the contempt by WM for the people North &amp; South http://t.co/2km73SD2wc\n",
      "\u001b[34mRT @ThePoke: Stingrays that look like David Cameron http://t.co/1FCW99PhNc #GE2015 #leadersdebate http://t.co/N4jsGLtnNB\n",
      "\u001b[34m@pollyjeanharvey @Nigel_Farage \n",
      "And what if a hotel owner doesn't want to cater for people of the \"wrong\" political opinion? Like UKIP?\n"
     ]
    }
   ],
   "source": [
    "blue = Fore.BLUE\n",
    "yellow= Fore.YELLOW\n",
    "\n",
    "def ispositive(tweet : str) -> bool:\n",
    "    return m.polarity_scores(tweet)[\"compound\"] > 0\n",
    "\n",
    "tweets = [tweet for tweet in twitter_samples.strings()]\n",
    "shuffle(tweets)\n",
    "\n",
    "for tweet in tweets[ : 10]:\n",
    "    color = blue\n",
    "    if not ispositive(tweet):\n",
    "        color = yellow\n",
    "    print(f\"{color}{tweet}\")"
   ]
  },
  {
   "cell_type": "code",
   "execution_count": null,
   "metadata": {},
   "outputs": [],
   "source": []
  }
 ],
 "metadata": {
  "kernelspec": {
   "display_name": "Python 3",
   "language": "python",
   "name": "python3"
  },
  "language_info": {
   "codemirror_mode": {
    "name": "ipython",
    "version": 3
   },
   "file_extension": ".py",
   "mimetype": "text/x-python",
   "name": "python",
   "nbconvert_exporter": "python",
   "pygments_lexer": "ipython3",
   "version": "3.7.6"
  }
 },
 "nbformat": 4,
 "nbformat_minor": 4
}
